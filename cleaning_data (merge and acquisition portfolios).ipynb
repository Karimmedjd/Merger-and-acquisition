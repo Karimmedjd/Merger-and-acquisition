{
 "cells": [
  {
   "cell_type": "code",
   "execution_count": 3,
   "id": "1d8b7a0a",
   "metadata": {},
   "outputs": [],
   "source": [
    "import pandas as pd\n",
    "import numpy as np"
   ]
  },
  {
   "cell_type": "markdown",
   "id": "c713d8a9",
   "metadata": {},
   "source": [
    "## Import the data"
   ]
  },
  {
   "cell_type": "code",
   "execution_count": 2,
   "id": "5ceb9416",
   "metadata": {},
   "outputs": [],
   "source": [
    "excel_data = pd.ExcelFile('data_task.xlsx')"
   ]
  },
  {
   "cell_type": "code",
   "execution_count": 4,
   "id": "d8295e49",
   "metadata": {},
   "outputs": [
    {
     "data": {
      "text/plain": [
       "['Instructions', 'FY18 - loans', 'FY19 - loans', 'FY19 - collaterals']"
      ]
     },
     "execution_count": 4,
     "metadata": {},
     "output_type": "execute_result"
    }
   ],
   "source": [
    "#check the sheets names\n",
    "excel_data.sheet_names"
   ]
  },
  {
   "cell_type": "code",
   "execution_count": 5,
   "id": "753c1978",
   "metadata": {},
   "outputs": [],
   "source": [
    "sheet1 = excel_data.parse('FY18 - loans', skiprows = 2, columns=[0,1])\n",
    "sheet2 = excel_data.parse('FY19 - loans', skiprows = 2, columns=[0,1])\n",
    "sheet3 = excel_data.parse('FY19 - collaterals', skiprows = 2, columns=[0,1])"
   ]
  },
  {
   "cell_type": "code",
   "execution_count": 7,
   "id": "00f09ce9",
   "metadata": {},
   "outputs": [
    {
     "data": {
      "text/plain": [
       "(     Loan ID  Outstanding balance (kEUR)\n",
       " 0     100001                      1795.0\n",
       " 1     100002                      1954.0\n",
       " 2     100003                      1965.0\n",
       " 3     100004                      1217.0\n",
       " 4     100005                      1425.0\n",
       " ...      ...                         ...\n",
       " 996   100997                      1630.0\n",
       " 997   100998                      1108.0\n",
       " 998   100999                      1010.0\n",
       " 999   101000                      1630.0\n",
       " 1000   TOTAL                   1510888.0\n",
       " \n",
       " [1001 rows x 2 columns],\n",
       "      Loan ID Outstanding balance (mEUR)\n",
       " 0     100001                      1.755\n",
       " 1     100002                      1.928\n",
       " 2     100003                      1.945\n",
       " 3     100004                      1.122\n",
       " 4     100005                      1.396\n",
       " ...      ...                        ...\n",
       " 996   101007                      1.968\n",
       " 997   101008                      1.539\n",
       " 998   101009                      1.145\n",
       " 999   101010                      1.466\n",
       " 1000   TOTAL                   1404.673\n",
       " \n",
       " [1001 rows x 2 columns],\n",
       "      Loan ID  Asset ID  Asset value (mEUR)\n",
       " 0     100001       1.0               2.903\n",
       " 1     100002       2.0               0.855\n",
       " 2     100003       3.0               2.850\n",
       " 3     100004       4.0               1.997\n",
       " 4     100005       5.0               1.015\n",
       " ...      ...       ...                 ...\n",
       " 1048  100310    1049.0               2.033\n",
       " 1049  100311    1050.0               2.022\n",
       " 1050  100315    1051.0               1.367\n",
       " 1051  100316    1052.0               1.890\n",
       " 1052   TOTAL       NaN            1812.801\n",
       " \n",
       " [1053 rows x 3 columns])"
      ]
     },
     "execution_count": 7,
     "metadata": {},
     "output_type": "execute_result"
    }
   ],
   "source": [
    "sheet1, sheet2, sheet3"
   ]
  },
  {
   "cell_type": "markdown",
   "id": "e5d7ff41",
   "metadata": {},
   "source": [
    "## Merge tables in sheet1 & sheet2 based on Loan ID"
   ]
  },
  {
   "cell_type": "code",
   "execution_count": 8,
   "id": "dd1015ef",
   "metadata": {},
   "outputs": [
    {
     "data": {
      "text/html": [
       "<div>\n",
       "<style scoped>\n",
       "    .dataframe tbody tr th:only-of-type {\n",
       "        vertical-align: middle;\n",
       "    }\n",
       "\n",
       "    .dataframe tbody tr th {\n",
       "        vertical-align: top;\n",
       "    }\n",
       "\n",
       "    .dataframe thead th {\n",
       "        text-align: right;\n",
       "    }\n",
       "</style>\n",
       "<table border=\"1\" class=\"dataframe\">\n",
       "  <thead>\n",
       "    <tr style=\"text-align: right;\">\n",
       "      <th></th>\n",
       "      <th>Loan ID</th>\n",
       "      <th>Outstanding balance (kEUR)</th>\n",
       "      <th>Outstanding balance (mEUR)</th>\n",
       "    </tr>\n",
       "  </thead>\n",
       "  <tbody>\n",
       "    <tr>\n",
       "      <th>0</th>\n",
       "      <td>100001</td>\n",
       "      <td>1795.0</td>\n",
       "      <td>1.755</td>\n",
       "    </tr>\n",
       "    <tr>\n",
       "      <th>1</th>\n",
       "      <td>100002</td>\n",
       "      <td>1954.0</td>\n",
       "      <td>1.928</td>\n",
       "    </tr>\n",
       "    <tr>\n",
       "      <th>2</th>\n",
       "      <td>100003</td>\n",
       "      <td>1965.0</td>\n",
       "      <td>1.945</td>\n",
       "    </tr>\n",
       "    <tr>\n",
       "      <th>3</th>\n",
       "      <td>100004</td>\n",
       "      <td>1217.0</td>\n",
       "      <td>1.122</td>\n",
       "    </tr>\n",
       "    <tr>\n",
       "      <th>4</th>\n",
       "      <td>100005</td>\n",
       "      <td>1425.0</td>\n",
       "      <td>1.396</td>\n",
       "    </tr>\n",
       "    <tr>\n",
       "      <th>...</th>\n",
       "      <td>...</td>\n",
       "      <td>...</td>\n",
       "      <td>...</td>\n",
       "    </tr>\n",
       "    <tr>\n",
       "      <th>1007</th>\n",
       "      <td>101007</td>\n",
       "      <td>NaN</td>\n",
       "      <td>1.968</td>\n",
       "    </tr>\n",
       "    <tr>\n",
       "      <th>1008</th>\n",
       "      <td>101008</td>\n",
       "      <td>NaN</td>\n",
       "      <td>1.539</td>\n",
       "    </tr>\n",
       "    <tr>\n",
       "      <th>1009</th>\n",
       "      <td>101009</td>\n",
       "      <td>NaN</td>\n",
       "      <td>1.145</td>\n",
       "    </tr>\n",
       "    <tr>\n",
       "      <th>1010</th>\n",
       "      <td>101010</td>\n",
       "      <td>NaN</td>\n",
       "      <td>1.466</td>\n",
       "    </tr>\n",
       "    <tr>\n",
       "      <th>1011</th>\n",
       "      <td>TOTAL</td>\n",
       "      <td>1510888.0</td>\n",
       "      <td>1404.673</td>\n",
       "    </tr>\n",
       "  </tbody>\n",
       "</table>\n",
       "<p>1012 rows × 3 columns</p>\n",
       "</div>"
      ],
      "text/plain": [
       "     Loan ID  Outstanding balance (kEUR) Outstanding balance (mEUR)\n",
       "0     100001                      1795.0                      1.755\n",
       "1     100002                      1954.0                      1.928\n",
       "2     100003                      1965.0                      1.945\n",
       "3     100004                      1217.0                      1.122\n",
       "4     100005                      1425.0                      1.396\n",
       "...      ...                         ...                        ...\n",
       "1007  101007                         NaN                      1.968\n",
       "1008  101008                         NaN                      1.539\n",
       "1009  101009                         NaN                      1.145\n",
       "1010  101010                         NaN                      1.466\n",
       "1011   TOTAL                   1510888.0                   1404.673\n",
       "\n",
       "[1012 rows x 3 columns]"
      ]
     },
     "execution_count": 8,
     "metadata": {},
     "output_type": "execute_result"
    }
   ],
   "source": [
    "sheet_1_2 = sheet1.merge(sheet2, on='Loan ID', how='outer', sort=True)\n",
    "sheet_1_2"
   ]
  },
  {
   "cell_type": "code",
   "execution_count": 9,
   "id": "822725e0",
   "metadata": {},
   "outputs": [
    {
     "data": {
      "text/plain": [
       "Loan ID                        0\n",
       "Outstanding balance (kEUR)    11\n",
       "Outstanding balance (mEUR)    11\n",
       "dtype: int64"
      ]
     },
     "execution_count": 9,
     "metadata": {},
     "output_type": "execute_result"
    }
   ],
   "source": [
    "# General check of missing data\n",
    "sheet_1_2.isna().sum() "
   ]
  },
  {
   "cell_type": "markdown",
   "id": "d5df7130",
   "metadata": {},
   "source": [
    "## How many loans were in the portfolio in FY18 which were missing in FY19? What are their IDs"
   ]
  },
  {
   "cell_type": "code",
   "execution_count": 12,
   "id": "eca9448a",
   "metadata": {},
   "outputs": [
    {
     "data": {
      "text/plain": [
       "(    Loan ID  Outstanding balance (kEUR) Outstanding balance (mEUR)\n",
       " 195  100196                      1346.0                        NaN\n",
       " 290  100291                      1823.0                        NaN\n",
       " 307  100307                      1490.0                        NaN\n",
       " 350  100350                      1950.0                        NaN\n",
       " 351  100351                      1968.0                        NaN\n",
       " 468  100468                      1666.0                        NaN\n",
       " 584  100584                      1889.0                        NaN\n",
       " 635  100635                      1380.0                        NaN\n",
       " 704  100704                      1413.0                        NaN\n",
       " 896  100896                      1902.0                        NaN\n",
       " 951  100951                      1218.0                        NaN,\n",
       " Loan ID                        0\n",
       " Outstanding balance (kEUR)     0\n",
       " Outstanding balance (mEUR)    11\n",
       " dtype: int64)"
      ]
     },
     "execution_count": 12,
     "metadata": {},
     "output_type": "execute_result"
    }
   ],
   "source": [
    "nan_FY19 = sheet_1_2[sheet_1_2['Outstanding balance (mEUR)'].isnull()] #missing data in FY19\n",
    "nan_FY19, nan_FY19.isna().sum()"
   ]
  },
  {
   "cell_type": "code",
   "execution_count": 16,
   "id": "9dc6ac28",
   "metadata": {},
   "outputs": [
    {
     "data": {
      "text/plain": [
       "array([100196, 100291, 100307, 100350, 100351, 100468, 100584, 100635,\n",
       "       100704, 100896, 100951], dtype=object)"
      ]
     },
     "execution_count": 16,
     "metadata": {},
     "output_type": "execute_result"
    }
   ],
   "source": [
    "np.array(nan_FY19['Loan ID'])"
   ]
  },
  {
   "cell_type": "markdown",
   "id": "d3fe5603",
   "metadata": {},
   "source": [
    "###### <span style='color:blue'>11 loans were in the portfolio in FY18 which were missing in FY19<span>\n",
    "    \n",
    "###### <span style='color:blue'>Their IDs: 100196, 100291, 100307, 100350, 100351, 100468, 100584, 100635,100704, 100896, 100951"
   ]
  },
  {
   "cell_type": "markdown",
   "id": "e2448b87",
   "metadata": {},
   "source": [
    "# -------------------------------------------------------------------------------------------------------------"
   ]
  },
  {
   "cell_type": "markdown",
   "id": "563263c7",
   "metadata": {},
   "source": [
    "## How many loans were in the portfolio in FY19 which were missing in FY18? What are their IDs"
   ]
  },
  {
   "cell_type": "code",
   "execution_count": 17,
   "id": "9b86d085",
   "metadata": {},
   "outputs": [
    {
     "data": {
      "text/plain": [
       "(     Loan ID  Outstanding balance (kEUR) Outstanding balance (mEUR)\n",
       " 681   100681                         NaN                      1.285\n",
       " 1001  101001                         NaN                      1.756\n",
       " 1002  101002                         NaN                      1.077\n",
       " 1003  101003                         NaN                      1.133\n",
       " 1004  101004                         NaN                      1.364\n",
       " 1005  101005                         NaN                      1.645\n",
       " 1006  101006                         NaN                       1.61\n",
       " 1007  101007                         NaN                      1.968\n",
       " 1008  101008                         NaN                      1.539\n",
       " 1009  101009                         NaN                      1.145\n",
       " 1010  101010                         NaN                      1.466,\n",
       " Loan ID                        0\n",
       " Outstanding balance (kEUR)    11\n",
       " Outstanding balance (mEUR)     0\n",
       " dtype: int64)"
      ]
     },
     "execution_count": 17,
     "metadata": {},
     "output_type": "execute_result"
    }
   ],
   "source": [
    "nan_FY18 = sheet_1_2[sheet_1_2['Outstanding balance (kEUR)'].isnull()] #missing data in FY19\n",
    "nan_FY18, nan_FY18.isna().sum()"
   ]
  },
  {
   "cell_type": "code",
   "execution_count": 18,
   "id": "114edd31",
   "metadata": {},
   "outputs": [
    {
     "data": {
      "text/plain": [
       "array([100681, 101001, 101002, 101003, 101004, 101005, 101006, 101007,\n",
       "       101008, 101009, 101010], dtype=object)"
      ]
     },
     "execution_count": 18,
     "metadata": {},
     "output_type": "execute_result"
    }
   ],
   "source": [
    "np.array(nan_FY18['Loan ID'])"
   ]
  },
  {
   "cell_type": "markdown",
   "id": "9eca79e0",
   "metadata": {},
   "source": [
    "###### <span style='color:blue'>11 loans were in the portfolio in FY19 which were missing in FY18<span>\n",
    "###### <span style='color:blue'>Their IDs: 100681, 101001, 101002, 101003, 101004, 101005, 101006, 101007, 101008, 101009, 101010"
   ]
  },
  {
   "cell_type": "markdown",
   "id": "595e7cef",
   "metadata": {},
   "source": [
    "# -------------------------------------------------------------------------------------------------------"
   ]
  },
  {
   "cell_type": "markdown",
   "id": "f55cd607",
   "metadata": {},
   "source": [
    "## How much did the portfolio grow or decline between FY18 and FY19 in outstanding amounts?"
   ]
  },
  {
   "cell_type": "code",
   "execution_count": 21,
   "id": "32bf67a9",
   "metadata": {},
   "outputs": [
    {
     "name": "stdout",
     "output_type": "stream",
     "text": [
      "-106214.99999999977 kEUR\n",
      "-7.029971778186058 %\n"
     ]
    },
    {
     "data": {
      "text/plain": [
       "(None, None)"
      ]
     },
     "execution_count": 21,
     "metadata": {},
     "output_type": "execute_result"
    }
   ],
   "source": [
    "#Growth_amount = Total Outstanding balance in 2019 - Total Outstanding balance in 2018\n",
    "#Growth_ratio % = (Growth_amount/Total Outstanding balance in 2018)*100\n",
    "\n",
    "growth_amount = sheet_1_2['Outstanding balance (mEUR)'][1011] * 1000 - sheet_1_2['Outstanding balance (kEUR)'][1011]\n",
    "growth_ratio = growth_amount/sheet_1_2['Outstanding balance (kEUR)'][1011]*100\n",
    "print(growth_amount,'kEUR'), print(growth_ratio, '%')\n"
   ]
  },
  {
   "cell_type": "markdown",
   "id": "7854d882",
   "metadata": {},
   "source": [
    "###### <span style='color:blue'>The portffoilio decline was 106214 kEUR, with a percentage ratio around 7%"
   ]
  },
  {
   "cell_type": "markdown",
   "id": "600ea02f",
   "metadata": {},
   "source": [
    "# -------------------------------------------------------------------------------------------------------------"
   ]
  },
  {
   "cell_type": "markdown",
   "id": "dd8a3396",
   "metadata": {},
   "source": [
    "## What is the highest loan-to-value figure in the portfolio in FY19 (calculated via outstanding balance of the loan divided by the sum of the collateral asset values related to the loan)?"
   ]
  },
  {
   "cell_type": "code",
   "execution_count": 22,
   "id": "b24376c2",
   "metadata": {},
   "outputs": [
    {
     "data": {
      "text/plain": [
       "168"
      ]
     },
     "execution_count": 22,
     "metadata": {},
     "output_type": "execute_result"
    }
   ],
   "source": [
    "# check duplicated IDs \n",
    "sheet3['Loan ID'].duplicated().sum()"
   ]
  },
  {
   "cell_type": "code",
   "execution_count": 25,
   "id": "561b3dfa",
   "metadata": {},
   "outputs": [
    {
     "data": {
      "text/plain": [
       "1"
      ]
     },
     "execution_count": 25,
     "metadata": {},
     "output_type": "execute_result"
    }
   ],
   "source": [
    "sheet2['Loan ID'].duplicated().sum()"
   ]
  },
  {
   "cell_type": "code",
   "execution_count": 27,
   "id": "6d4794b6",
   "metadata": {},
   "outputs": [
    {
     "data": {
      "text/html": [
       "<div>\n",
       "<style scoped>\n",
       "    .dataframe tbody tr th:only-of-type {\n",
       "        vertical-align: middle;\n",
       "    }\n",
       "\n",
       "    .dataframe tbody tr th {\n",
       "        vertical-align: top;\n",
       "    }\n",
       "\n",
       "    .dataframe thead th {\n",
       "        text-align: right;\n",
       "    }\n",
       "</style>\n",
       "<table border=\"1\" class=\"dataframe\">\n",
       "  <thead>\n",
       "    <tr style=\"text-align: right;\">\n",
       "      <th></th>\n",
       "      <th>Loan ID</th>\n",
       "      <th>Outstanding balance (mEUR)</th>\n",
       "    </tr>\n",
       "  </thead>\n",
       "  <tbody>\n",
       "    <tr>\n",
       "      <th>304</th>\n",
       "      <td>100306</td>\n",
       "      <td>-0.863</td>\n",
       "    </tr>\n",
       "  </tbody>\n",
       "</table>\n",
       "</div>"
      ],
      "text/plain": [
       "    Loan ID Outstanding balance (mEUR)\n",
       "304  100306                     -0.863"
      ]
     },
     "execution_count": 27,
     "metadata": {},
     "output_type": "execute_result"
    }
   ],
   "source": [
    "# check which loan is duplicated\n",
    "sheet2[sheet2['Loan ID'].duplicated()]"
   ]
  },
  {
   "cell_type": "code",
   "execution_count": 28,
   "id": "ab7f2ba9",
   "metadata": {},
   "outputs": [
    {
     "data": {
      "text/plain": [
       "(array([303, 304], dtype=int64),)"
      ]
     },
     "execution_count": 28,
     "metadata": {},
     "output_type": "execute_result"
    }
   ],
   "source": [
    "np.where(sheet2['Loan ID'] == 100306)"
   ]
  },
  {
   "cell_type": "code",
   "execution_count": 30,
   "id": "f957fbd7",
   "metadata": {},
   "outputs": [
    {
     "data": {
      "text/plain": [
       "(0.863, -0.863)"
      ]
     },
     "execution_count": 30,
     "metadata": {},
     "output_type": "execute_result"
    }
   ],
   "source": [
    "sheet2['Outstanding balance (mEUR)'][303], sheet2['Outstanding balance (mEUR)'][304]"
   ]
  },
  {
   "cell_type": "code",
   "execution_count": 31,
   "id": "1e07d59d",
   "metadata": {},
   "outputs": [],
   "source": [
    "# Loan ID 100306 is duplicated twice in FY19. the two values of (Outstanding balance (mEUR)) neglect eachother in case of aggregating them.\n",
    "#I choose to don't consider this ID as one velue are suspecious, especially the negative value.\n",
    "sheet_2 = sheet2.drop(index=[303,304])"
   ]
  },
  {
   "cell_type": "code",
   "execution_count": 32,
   "id": "00a87429",
   "metadata": {},
   "outputs": [
    {
     "data": {
      "text/html": [
       "<div>\n",
       "<style scoped>\n",
       "    .dataframe tbody tr th:only-of-type {\n",
       "        vertical-align: middle;\n",
       "    }\n",
       "\n",
       "    .dataframe tbody tr th {\n",
       "        vertical-align: top;\n",
       "    }\n",
       "\n",
       "    .dataframe thead th {\n",
       "        text-align: right;\n",
       "    }\n",
       "</style>\n",
       "<table border=\"1\" class=\"dataframe\">\n",
       "  <thead>\n",
       "    <tr style=\"text-align: right;\">\n",
       "      <th></th>\n",
       "      <th>Asset value (mEUR)</th>\n",
       "    </tr>\n",
       "    <tr>\n",
       "      <th>Loan ID</th>\n",
       "      <th></th>\n",
       "    </tr>\n",
       "  </thead>\n",
       "  <tbody>\n",
       "    <tr>\n",
       "      <th>100001</th>\n",
       "      <td>2.903</td>\n",
       "    </tr>\n",
       "    <tr>\n",
       "      <th>100002</th>\n",
       "      <td>0.855</td>\n",
       "    </tr>\n",
       "    <tr>\n",
       "      <th>100003</th>\n",
       "      <td>2.850</td>\n",
       "    </tr>\n",
       "    <tr>\n",
       "      <th>100004</th>\n",
       "      <td>1.997</td>\n",
       "    </tr>\n",
       "    <tr>\n",
       "      <th>100005</th>\n",
       "      <td>1.015</td>\n",
       "    </tr>\n",
       "    <tr>\n",
       "      <th>...</th>\n",
       "      <td>...</td>\n",
       "    </tr>\n",
       "    <tr>\n",
       "      <th>101007</th>\n",
       "      <td>2.808</td>\n",
       "    </tr>\n",
       "    <tr>\n",
       "      <th>101008</th>\n",
       "      <td>4.218</td>\n",
       "    </tr>\n",
       "    <tr>\n",
       "      <th>101009</th>\n",
       "      <td>2.953</td>\n",
       "    </tr>\n",
       "    <tr>\n",
       "      <th>101010</th>\n",
       "      <td>2.935</td>\n",
       "    </tr>\n",
       "    <tr>\n",
       "      <th>TOTAL</th>\n",
       "      <td>1812.801</td>\n",
       "    </tr>\n",
       "  </tbody>\n",
       "</table>\n",
       "<p>885 rows × 1 columns</p>\n",
       "</div>"
      ],
      "text/plain": [
       "         Asset value (mEUR)\n",
       "Loan ID                    \n",
       "100001                2.903\n",
       "100002                0.855\n",
       "100003                2.850\n",
       "100004                1.997\n",
       "100005                1.015\n",
       "...                     ...\n",
       "101007                2.808\n",
       "101008                4.218\n",
       "101009                2.953\n",
       "101010                2.935\n",
       "TOTAL              1812.801\n",
       "\n",
       "[885 rows x 1 columns]"
      ]
     },
     "execution_count": 32,
     "metadata": {},
     "output_type": "execute_result"
    }
   ],
   "source": [
    "# sum of the collateral asset values related to the loan\n",
    "agg = pd.DataFrame(sheet3.groupby(['Loan ID'])['Asset value (mEUR)'].sum())\n",
    "agg"
   ]
  },
  {
   "cell_type": "code",
   "execution_count": 34,
   "id": "af17fdb3",
   "metadata": {},
   "outputs": [
    {
     "data": {
      "text/plain": [
       "168"
      ]
     },
     "execution_count": 34,
     "metadata": {},
     "output_type": "execute_result"
    }
   ],
   "source": [
    "1053-885 "
   ]
  },
  {
   "cell_type": "code",
   "execution_count": 37,
   "id": "334d3036",
   "metadata": {},
   "outputs": [],
   "source": [
    "# merge the outstanding balance of the loan with the sum of the collateral asset values \n",
    "new_sheet3 = agg.merge(sheet_2, on='Loan ID', how='outer', sort=True)"
   ]
  },
  {
   "cell_type": "code",
   "execution_count": 38,
   "id": "16874f43",
   "metadata": {},
   "outputs": [
    {
     "data": {
      "text/html": [
       "<div>\n",
       "<style scoped>\n",
       "    .dataframe tbody tr th:only-of-type {\n",
       "        vertical-align: middle;\n",
       "    }\n",
       "\n",
       "    .dataframe tbody tr th {\n",
       "        vertical-align: top;\n",
       "    }\n",
       "\n",
       "    .dataframe thead th {\n",
       "        text-align: right;\n",
       "    }\n",
       "</style>\n",
       "<table border=\"1\" class=\"dataframe\">\n",
       "  <thead>\n",
       "    <tr style=\"text-align: right;\">\n",
       "      <th></th>\n",
       "      <th>Loan ID</th>\n",
       "      <th>Asset value (mEUR)</th>\n",
       "      <th>Outstanding balance (mEUR)</th>\n",
       "    </tr>\n",
       "  </thead>\n",
       "  <tbody>\n",
       "    <tr>\n",
       "      <th>0</th>\n",
       "      <td>100001</td>\n",
       "      <td>2.903</td>\n",
       "      <td>1.755</td>\n",
       "    </tr>\n",
       "    <tr>\n",
       "      <th>1</th>\n",
       "      <td>100002</td>\n",
       "      <td>0.855</td>\n",
       "      <td>1.928</td>\n",
       "    </tr>\n",
       "    <tr>\n",
       "      <th>2</th>\n",
       "      <td>100003</td>\n",
       "      <td>2.850</td>\n",
       "      <td>1.945</td>\n",
       "    </tr>\n",
       "    <tr>\n",
       "      <th>3</th>\n",
       "      <td>100004</td>\n",
       "      <td>1.997</td>\n",
       "      <td>1.122</td>\n",
       "    </tr>\n",
       "    <tr>\n",
       "      <th>4</th>\n",
       "      <td>100005</td>\n",
       "      <td>1.015</td>\n",
       "      <td>1.396</td>\n",
       "    </tr>\n",
       "    <tr>\n",
       "      <th>...</th>\n",
       "      <td>...</td>\n",
       "      <td>...</td>\n",
       "      <td>...</td>\n",
       "    </tr>\n",
       "    <tr>\n",
       "      <th>994</th>\n",
       "      <td>101007</td>\n",
       "      <td>2.808</td>\n",
       "      <td>1.968</td>\n",
       "    </tr>\n",
       "    <tr>\n",
       "      <th>995</th>\n",
       "      <td>101008</td>\n",
       "      <td>4.218</td>\n",
       "      <td>1.539</td>\n",
       "    </tr>\n",
       "    <tr>\n",
       "      <th>996</th>\n",
       "      <td>101009</td>\n",
       "      <td>2.953</td>\n",
       "      <td>1.145</td>\n",
       "    </tr>\n",
       "    <tr>\n",
       "      <th>997</th>\n",
       "      <td>101010</td>\n",
       "      <td>2.935</td>\n",
       "      <td>1.466</td>\n",
       "    </tr>\n",
       "    <tr>\n",
       "      <th>998</th>\n",
       "      <td>TOTAL</td>\n",
       "      <td>1812.801</td>\n",
       "      <td>1404.673</td>\n",
       "    </tr>\n",
       "  </tbody>\n",
       "</table>\n",
       "<p>999 rows × 3 columns</p>\n",
       "</div>"
      ],
      "text/plain": [
       "    Loan ID  Asset value (mEUR) Outstanding balance (mEUR)\n",
       "0    100001               2.903                      1.755\n",
       "1    100002               0.855                      1.928\n",
       "2    100003               2.850                      1.945\n",
       "3    100004               1.997                      1.122\n",
       "4    100005               1.015                      1.396\n",
       "..      ...                 ...                        ...\n",
       "994  101007               2.808                      1.968\n",
       "995  101008               4.218                      1.539\n",
       "996  101009               2.953                      1.145\n",
       "997  101010               2.935                      1.466\n",
       "998   TOTAL            1812.801                   1404.673\n",
       "\n",
       "[999 rows x 3 columns]"
      ]
     },
     "execution_count": 38,
     "metadata": {},
     "output_type": "execute_result"
    }
   ],
   "source": [
    "new_sheet3"
   ]
  },
  {
   "cell_type": "code",
   "execution_count": 39,
   "id": "0634a0d0",
   "metadata": {},
   "outputs": [
    {
     "data": {
      "text/plain": [
       "Loan ID                         0\n",
       "Asset value (mEUR)            114\n",
       "Outstanding balance (mEUR)      0\n",
       "dtype: int64"
      ]
     },
     "execution_count": 39,
     "metadata": {},
     "output_type": "execute_result"
    }
   ],
   "source": [
    "new_sheet3.isnull().sum()"
   ]
  },
  {
   "cell_type": "code",
   "execution_count": 49,
   "id": "79b31166",
   "metadata": {},
   "outputs": [
    {
     "data": {
      "text/html": [
       "<div>\n",
       "<style scoped>\n",
       "    .dataframe tbody tr th:only-of-type {\n",
       "        vertical-align: middle;\n",
       "    }\n",
       "\n",
       "    .dataframe tbody tr th {\n",
       "        vertical-align: top;\n",
       "    }\n",
       "\n",
       "    .dataframe thead th {\n",
       "        text-align: right;\n",
       "    }\n",
       "</style>\n",
       "<table border=\"1\" class=\"dataframe\">\n",
       "  <thead>\n",
       "    <tr style=\"text-align: right;\">\n",
       "      <th></th>\n",
       "      <th>Loan ID</th>\n",
       "      <th>Asset value (mEUR)</th>\n",
       "      <th>Outstanding balance (mEUR)</th>\n",
       "    </tr>\n",
       "  </thead>\n",
       "  <tbody>\n",
       "    <tr>\n",
       "      <th>0</th>\n",
       "      <td>100001</td>\n",
       "      <td>2.903</td>\n",
       "      <td>1.755</td>\n",
       "    </tr>\n",
       "    <tr>\n",
       "      <th>1</th>\n",
       "      <td>100002</td>\n",
       "      <td>0.855</td>\n",
       "      <td>1.928</td>\n",
       "    </tr>\n",
       "    <tr>\n",
       "      <th>2</th>\n",
       "      <td>100003</td>\n",
       "      <td>2.850</td>\n",
       "      <td>1.945</td>\n",
       "    </tr>\n",
       "    <tr>\n",
       "      <th>3</th>\n",
       "      <td>100004</td>\n",
       "      <td>1.997</td>\n",
       "      <td>1.122</td>\n",
       "    </tr>\n",
       "    <tr>\n",
       "      <th>4</th>\n",
       "      <td>100005</td>\n",
       "      <td>1.015</td>\n",
       "      <td>1.396</td>\n",
       "    </tr>\n",
       "    <tr>\n",
       "      <th>...</th>\n",
       "      <td>...</td>\n",
       "      <td>...</td>\n",
       "      <td>...</td>\n",
       "    </tr>\n",
       "    <tr>\n",
       "      <th>993</th>\n",
       "      <td>101006</td>\n",
       "      <td>1.349</td>\n",
       "      <td>1.61</td>\n",
       "    </tr>\n",
       "    <tr>\n",
       "      <th>994</th>\n",
       "      <td>101007</td>\n",
       "      <td>2.808</td>\n",
       "      <td>1.968</td>\n",
       "    </tr>\n",
       "    <tr>\n",
       "      <th>995</th>\n",
       "      <td>101008</td>\n",
       "      <td>4.218</td>\n",
       "      <td>1.539</td>\n",
       "    </tr>\n",
       "    <tr>\n",
       "      <th>996</th>\n",
       "      <td>101009</td>\n",
       "      <td>2.953</td>\n",
       "      <td>1.145</td>\n",
       "    </tr>\n",
       "    <tr>\n",
       "      <th>997</th>\n",
       "      <td>101010</td>\n",
       "      <td>2.935</td>\n",
       "      <td>1.466</td>\n",
       "    </tr>\n",
       "  </tbody>\n",
       "</table>\n",
       "<p>998 rows × 3 columns</p>\n",
       "</div>"
      ],
      "text/plain": [
       "    Loan ID  Asset value (mEUR) Outstanding balance (mEUR)\n",
       "0    100001               2.903                      1.755\n",
       "1    100002               0.855                      1.928\n",
       "2    100003               2.850                      1.945\n",
       "3    100004               1.997                      1.122\n",
       "4    100005               1.015                      1.396\n",
       "..      ...                 ...                        ...\n",
       "993  101006               1.349                       1.61\n",
       "994  101007               2.808                      1.968\n",
       "995  101008               4.218                      1.539\n",
       "996  101009               2.953                      1.145\n",
       "997  101010               2.935                      1.466\n",
       "\n",
       "[998 rows x 3 columns]"
      ]
     },
     "execution_count": 49,
     "metadata": {},
     "output_type": "execute_result"
    }
   ],
   "source": [
    "new_sheet3[0:998]"
   ]
  },
  {
   "cell_type": "code",
   "execution_count": 50,
   "id": "85f1ee85",
   "metadata": {},
   "outputs": [],
   "source": [
    "new_sheet3['LTV'] = new_sheet3['Outstanding balance (mEUR)'][0:998]/new_sheet3['Asset value (mEUR)'][0:998] "
   ]
  },
  {
   "cell_type": "code",
   "execution_count": 52,
   "id": "c560fe46",
   "metadata": {},
   "outputs": [
    {
     "data": {
      "text/plain": [
       "3.753846153846154"
      ]
     },
     "execution_count": 52,
     "metadata": {},
     "output_type": "execute_result"
    }
   ],
   "source": [
    "new_sheet3['LTV'].max()"
   ]
  },
  {
   "cell_type": "markdown",
   "id": "e7e0952b",
   "metadata": {},
   "source": [
    "###### <span style='color:blue'>The highest loan-to-value (LTV) in the portfolio in FY19 is: 3.754, with a ratio:375.4%"
   ]
  },
  {
   "cell_type": "markdown",
   "id": "6eec8f49",
   "metadata": {},
   "source": [
    "# --------------------------------------------------------------------------------------------------------"
   ]
  },
  {
   "cell_type": "markdown",
   "id": "e9db33d2",
   "metadata": {},
   "source": [
    "## Is there a notice of anthing unusual in the data"
   ]
  },
  {
   "cell_type": "code",
   "execution_count": 78,
   "id": "848639b1",
   "metadata": {},
   "outputs": [],
   "source": [
    "#Calculate some summary statistics of (Outstanding balance (mEUR)) in sheet1 (FY18)\n",
    "mean1 = sheet1['Outstanding balance (kEUR)'][0:1000].mean()\n",
    "stdv1 = sheet1['Outstanding balance (kEUR)'][0:1000].std()\n",
    "#Z_score\n",
    "sheet1['Z'] = (sheet1['Outstanding balance (kEUR)'][0:1000]-mean1)/stdv1"
   ]
  },
  {
   "cell_type": "code",
   "execution_count": 80,
   "id": "179ba773",
   "metadata": {},
   "outputs": [
    {
     "data": {
      "text/html": [
       "<div>\n",
       "<style scoped>\n",
       "    .dataframe tbody tr th:only-of-type {\n",
       "        vertical-align: middle;\n",
       "    }\n",
       "\n",
       "    .dataframe tbody tr th {\n",
       "        vertical-align: top;\n",
       "    }\n",
       "\n",
       "    .dataframe thead th {\n",
       "        text-align: right;\n",
       "    }\n",
       "</style>\n",
       "<table border=\"1\" class=\"dataframe\">\n",
       "  <thead>\n",
       "    <tr style=\"text-align: right;\">\n",
       "      <th></th>\n",
       "      <th>Loan ID</th>\n",
       "      <th>Outstanding balance (kEUR)</th>\n",
       "      <th>Z</th>\n",
       "    </tr>\n",
       "  </thead>\n",
       "  <tbody>\n",
       "    <tr>\n",
       "      <th>0</th>\n",
       "      <td>100001</td>\n",
       "      <td>1795.0</td>\n",
       "      <td>0.995021</td>\n",
       "    </tr>\n",
       "    <tr>\n",
       "      <th>1</th>\n",
       "      <td>100002</td>\n",
       "      <td>1954.0</td>\n",
       "      <td>1.551961</td>\n",
       "    </tr>\n",
       "    <tr>\n",
       "      <th>2</th>\n",
       "      <td>100003</td>\n",
       "      <td>1965.0</td>\n",
       "      <td>1.590492</td>\n",
       "    </tr>\n",
       "    <tr>\n",
       "      <th>3</th>\n",
       "      <td>100004</td>\n",
       "      <td>1217.0</td>\n",
       "      <td>-1.029579</td>\n",
       "    </tr>\n",
       "    <tr>\n",
       "      <th>4</th>\n",
       "      <td>100005</td>\n",
       "      <td>1425.0</td>\n",
       "      <td>-0.301003</td>\n",
       "    </tr>\n",
       "    <tr>\n",
       "      <th>...</th>\n",
       "      <td>...</td>\n",
       "      <td>...</td>\n",
       "      <td>...</td>\n",
       "    </tr>\n",
       "    <tr>\n",
       "      <th>995</th>\n",
       "      <td>100996</td>\n",
       "      <td>1740.0</td>\n",
       "      <td>0.802369</td>\n",
       "    </tr>\n",
       "    <tr>\n",
       "      <th>996</th>\n",
       "      <td>100997</td>\n",
       "      <td>1630.0</td>\n",
       "      <td>0.417064</td>\n",
       "    </tr>\n",
       "    <tr>\n",
       "      <th>997</th>\n",
       "      <td>100998</td>\n",
       "      <td>1108.0</td>\n",
       "      <td>-1.411381</td>\n",
       "    </tr>\n",
       "    <tr>\n",
       "      <th>998</th>\n",
       "      <td>100999</td>\n",
       "      <td>1010.0</td>\n",
       "      <td>-1.754652</td>\n",
       "    </tr>\n",
       "    <tr>\n",
       "      <th>999</th>\n",
       "      <td>101000</td>\n",
       "      <td>1630.0</td>\n",
       "      <td>0.417064</td>\n",
       "    </tr>\n",
       "  </tbody>\n",
       "</table>\n",
       "<p>1000 rows × 3 columns</p>\n",
       "</div>"
      ],
      "text/plain": [
       "    Loan ID  Outstanding balance (kEUR)         Z\n",
       "0    100001                      1795.0  0.995021\n",
       "1    100002                      1954.0  1.551961\n",
       "2    100003                      1965.0  1.590492\n",
       "3    100004                      1217.0 -1.029579\n",
       "4    100005                      1425.0 -0.301003\n",
       "..      ...                         ...       ...\n",
       "995  100996                      1740.0  0.802369\n",
       "996  100997                      1630.0  0.417064\n",
       "997  100998                      1108.0 -1.411381\n",
       "998  100999                      1010.0 -1.754652\n",
       "999  101000                      1630.0  0.417064\n",
       "\n",
       "[1000 rows x 3 columns]"
      ]
     },
     "execution_count": 80,
     "metadata": {},
     "output_type": "execute_result"
    }
   ],
   "source": [
    "sheet1[0:1000]"
   ]
  },
  {
   "cell_type": "code",
   "execution_count": 58,
   "id": "e1f46008",
   "metadata": {},
   "outputs": [
    {
     "name": "stdout",
     "output_type": "stream",
     "text": [
      "858\n"
     ]
    }
   ],
   "source": [
    "#Calculate some summary statistics of (Outstanding balance (mEUR)) in sheet1 (FY19)\n",
    "\n",
    "#Sheet_2(Outstanding balance (mEUR)) contains strings\n",
    "#Check its index\n",
    "for i in range(0,999):\n",
    "    if type(sheet2['Outstanding balance (mEUR)'][i]) == str:\n",
    "        print(i)"
   ]
  },
  {
   "cell_type": "code",
   "execution_count": 59,
   "id": "f77bc39a",
   "metadata": {},
   "outputs": [
    {
     "data": {
      "text/plain": [
       "'1.148m'"
      ]
     },
     "execution_count": 59,
     "metadata": {},
     "output_type": "execute_result"
    }
   ],
   "source": [
    "sheet2['Outstanding balance (mEUR)'][858]"
   ]
  },
  {
   "cell_type": "code",
   "execution_count": 60,
   "id": "126246dd",
   "metadata": {},
   "outputs": [],
   "source": [
    "#drop the row that contains string \n",
    "new_sheet_2 = sheet_2.drop(index=[858])"
   ]
  },
  {
   "cell_type": "code",
   "execution_count": 82,
   "id": "4adadf79",
   "metadata": {},
   "outputs": [],
   "source": [
    "#Calculate some summary statistics of (Outstanding balance (mEUR)) in sheet1 (FY19)\n",
    "mean2 = new_sheet_2['Outstanding balance (mEUR)'][0:997].mean()\n",
    "stdv2 = new_sheet_2['Outstanding balance (mEUR)'][0:997].std()\n",
    "#Z_score\n",
    "new_sheet_2['Z'] = (new_sheet_2['Outstanding balance (mEUR)'][0:997]-mean2)/stdv2"
   ]
  },
  {
   "cell_type": "code",
   "execution_count": 84,
   "id": "c1d9b279",
   "metadata": {},
   "outputs": [
    {
     "data": {
      "text/html": [
       "<div>\n",
       "<style scoped>\n",
       "    .dataframe tbody tr th:only-of-type {\n",
       "        vertical-align: middle;\n",
       "    }\n",
       "\n",
       "    .dataframe tbody tr th {\n",
       "        vertical-align: top;\n",
       "    }\n",
       "\n",
       "    .dataframe thead th {\n",
       "        text-align: right;\n",
       "    }\n",
       "</style>\n",
       "<table border=\"1\" class=\"dataframe\">\n",
       "  <thead>\n",
       "    <tr style=\"text-align: right;\">\n",
       "      <th></th>\n",
       "      <th>Loan ID</th>\n",
       "      <th>Outstanding balance (mEUR)</th>\n",
       "      <th>Z</th>\n",
       "    </tr>\n",
       "  </thead>\n",
       "  <tbody>\n",
       "    <tr>\n",
       "      <th>0</th>\n",
       "      <td>100001</td>\n",
       "      <td>1.755</td>\n",
       "      <td>1.196033</td>\n",
       "    </tr>\n",
       "    <tr>\n",
       "      <th>1</th>\n",
       "      <td>100002</td>\n",
       "      <td>1.928</td>\n",
       "      <td>1.791893</td>\n",
       "    </tr>\n",
       "    <tr>\n",
       "      <th>2</th>\n",
       "      <td>100003</td>\n",
       "      <td>1.945</td>\n",
       "      <td>1.850446</td>\n",
       "    </tr>\n",
       "    <tr>\n",
       "      <th>3</th>\n",
       "      <td>100004</td>\n",
       "      <td>1.122</td>\n",
       "      <td>-0.984197</td>\n",
       "    </tr>\n",
       "    <tr>\n",
       "      <th>4</th>\n",
       "      <td>100005</td>\n",
       "      <td>1.396</td>\n",
       "      <td>-0.040464</td>\n",
       "    </tr>\n",
       "    <tr>\n",
       "      <th>...</th>\n",
       "      <td>...</td>\n",
       "      <td>...</td>\n",
       "      <td>...</td>\n",
       "    </tr>\n",
       "    <tr>\n",
       "      <th>995</th>\n",
       "      <td>101006</td>\n",
       "      <td>1.61</td>\n",
       "      <td>0.696612</td>\n",
       "    </tr>\n",
       "    <tr>\n",
       "      <th>996</th>\n",
       "      <td>101007</td>\n",
       "      <td>1.968</td>\n",
       "      <td>1.929665</td>\n",
       "    </tr>\n",
       "    <tr>\n",
       "      <th>997</th>\n",
       "      <td>101008</td>\n",
       "      <td>1.539</td>\n",
       "      <td>0.452068</td>\n",
       "    </tr>\n",
       "    <tr>\n",
       "      <th>998</th>\n",
       "      <td>101009</td>\n",
       "      <td>1.145</td>\n",
       "      <td>-0.904979</td>\n",
       "    </tr>\n",
       "    <tr>\n",
       "      <th>999</th>\n",
       "      <td>101010</td>\n",
       "      <td>1.466</td>\n",
       "      <td>0.200635</td>\n",
       "    </tr>\n",
       "  </tbody>\n",
       "</table>\n",
       "<p>997 rows × 3 columns</p>\n",
       "</div>"
      ],
      "text/plain": [
       "    Loan ID Outstanding balance (mEUR)         Z\n",
       "0    100001                      1.755  1.196033\n",
       "1    100002                      1.928  1.791893\n",
       "2    100003                      1.945  1.850446\n",
       "3    100004                      1.122 -0.984197\n",
       "4    100005                      1.396 -0.040464\n",
       "..      ...                        ...       ...\n",
       "995  101006                       1.61  0.696612\n",
       "996  101007                      1.968  1.929665\n",
       "997  101008                      1.539  0.452068\n",
       "998  101009                      1.145 -0.904979\n",
       "999  101010                      1.466  0.200635\n",
       "\n",
       "[997 rows x 3 columns]"
      ]
     },
     "execution_count": 84,
     "metadata": {},
     "output_type": "execute_result"
    }
   ],
   "source": [
    "new_sheet_2[0:997]"
   ]
  },
  {
   "cell_type": "code",
   "execution_count": 85,
   "id": "c2b2e87c",
   "metadata": {},
   "outputs": [],
   "source": [
    "#Calculate some summary statistics of (Outstanding balance (mEUR)) in sheet1 (FY19)\n",
    "mean3 = sheet3['Asset value (mEUR)'][0:1052].mean()\n",
    "stdv3 = sheet3['Asset value (mEUR)'][0:1052].std()\n",
    "#Z_score\n",
    "sheet3['Z'] = (sheet3['Asset value (mEUR)']-mean3)[0:1052]/stdv3"
   ]
  },
  {
   "cell_type": "code",
   "execution_count": 87,
   "id": "7ef63d25",
   "metadata": {},
   "outputs": [
    {
     "data": {
      "text/html": [
       "<div>\n",
       "<style scoped>\n",
       "    .dataframe tbody tr th:only-of-type {\n",
       "        vertical-align: middle;\n",
       "    }\n",
       "\n",
       "    .dataframe tbody tr th {\n",
       "        vertical-align: top;\n",
       "    }\n",
       "\n",
       "    .dataframe thead th {\n",
       "        text-align: right;\n",
       "    }\n",
       "</style>\n",
       "<table border=\"1\" class=\"dataframe\">\n",
       "  <thead>\n",
       "    <tr style=\"text-align: right;\">\n",
       "      <th></th>\n",
       "      <th>Loan ID</th>\n",
       "      <th>Asset ID</th>\n",
       "      <th>Asset value (mEUR)</th>\n",
       "      <th>Z</th>\n",
       "    </tr>\n",
       "  </thead>\n",
       "  <tbody>\n",
       "    <tr>\n",
       "      <th>0</th>\n",
       "      <td>100001</td>\n",
       "      <td>1.0</td>\n",
       "      <td>2.903</td>\n",
       "      <td>1.595344</td>\n",
       "    </tr>\n",
       "    <tr>\n",
       "      <th>1</th>\n",
       "      <td>100002</td>\n",
       "      <td>2.0</td>\n",
       "      <td>0.855</td>\n",
       "      <td>-1.210773</td>\n",
       "    </tr>\n",
       "    <tr>\n",
       "      <th>2</th>\n",
       "      <td>100003</td>\n",
       "      <td>3.0</td>\n",
       "      <td>2.850</td>\n",
       "      <td>1.522725</td>\n",
       "    </tr>\n",
       "    <tr>\n",
       "      <th>3</th>\n",
       "      <td>100004</td>\n",
       "      <td>4.0</td>\n",
       "      <td>1.997</td>\n",
       "      <td>0.353966</td>\n",
       "    </tr>\n",
       "    <tr>\n",
       "      <th>4</th>\n",
       "      <td>100005</td>\n",
       "      <td>5.0</td>\n",
       "      <td>1.015</td>\n",
       "      <td>-0.991545</td>\n",
       "    </tr>\n",
       "    <tr>\n",
       "      <th>...</th>\n",
       "      <td>...</td>\n",
       "      <td>...</td>\n",
       "      <td>...</td>\n",
       "      <td>...</td>\n",
       "    </tr>\n",
       "    <tr>\n",
       "      <th>1047</th>\n",
       "      <td>100260</td>\n",
       "      <td>1048.0</td>\n",
       "      <td>1.791</td>\n",
       "      <td>0.071710</td>\n",
       "    </tr>\n",
       "    <tr>\n",
       "      <th>1048</th>\n",
       "      <td>100310</td>\n",
       "      <td>1049.0</td>\n",
       "      <td>2.033</td>\n",
       "      <td>0.403292</td>\n",
       "    </tr>\n",
       "    <tr>\n",
       "      <th>1049</th>\n",
       "      <td>100311</td>\n",
       "      <td>1050.0</td>\n",
       "      <td>2.022</td>\n",
       "      <td>0.388220</td>\n",
       "    </tr>\n",
       "    <tr>\n",
       "      <th>1050</th>\n",
       "      <td>100315</td>\n",
       "      <td>1051.0</td>\n",
       "      <td>1.367</td>\n",
       "      <td>-0.509244</td>\n",
       "    </tr>\n",
       "    <tr>\n",
       "      <th>1051</th>\n",
       "      <td>100316</td>\n",
       "      <td>1052.0</td>\n",
       "      <td>1.890</td>\n",
       "      <td>0.207357</td>\n",
       "    </tr>\n",
       "  </tbody>\n",
       "</table>\n",
       "<p>1052 rows × 4 columns</p>\n",
       "</div>"
      ],
      "text/plain": [
       "     Loan ID  Asset ID  Asset value (mEUR)         Z\n",
       "0     100001       1.0               2.903  1.595344\n",
       "1     100002       2.0               0.855 -1.210773\n",
       "2     100003       3.0               2.850  1.522725\n",
       "3     100004       4.0               1.997  0.353966\n",
       "4     100005       5.0               1.015 -0.991545\n",
       "...      ...       ...                 ...       ...\n",
       "1047  100260    1048.0               1.791  0.071710\n",
       "1048  100310    1049.0               2.033  0.403292\n",
       "1049  100311    1050.0               2.022  0.388220\n",
       "1050  100315    1051.0               1.367 -0.509244\n",
       "1051  100316    1052.0               1.890  0.207357\n",
       "\n",
       "[1052 rows x 4 columns]"
      ]
     },
     "execution_count": 87,
     "metadata": {},
     "output_type": "execute_result"
    }
   ],
   "source": [
    "sheet3[0:1052]"
   ]
  },
  {
   "cell_type": "code",
   "execution_count": null,
   "id": "aad3ee5c",
   "metadata": {},
   "outputs": [],
   "source": [
    "#The ideal range of Z score is between -2 & 2"
   ]
  },
  {
   "cell_type": "code",
   "execution_count": 97,
   "id": "cbe272b2",
   "metadata": {},
   "outputs": [
    {
     "name": "stdout",
     "output_type": "stream",
     "text": [
      "min1: -1.786176744904511 max1: 1.7130884582595525\n",
      "min2: -1.993371772082659 max2: 1.929664658800825\n",
      "min3: -1.695814794046452 max3: 1.7255105882068171\n"
     ]
    }
   ],
   "source": [
    "print('min1:', sheet1['Z'][0:1000].min(),'max1:',sheet1['Z'][0:1000].max()),\n",
    "print('min2:',new_sheet_2['Z'][0:997].min(),'max2:',new_sheet_2['Z'][0:997].max()),\n",
    "print('min3:',sheet3['Z'][0:1052].min(),'max3:',sheet3['Z'][0:1052].max())"
   ]
  },
  {
   "cell_type": "markdown",
   "id": "cecf5008",
   "metadata": {},
   "source": [
    "###### <span style='color:blue'>Since the Z-score for each data-set is confined between the values -2 and 2, I don't notice anything unusual in the data"
   ]
  }
 ],
 "metadata": {
  "kernelspec": {
   "display_name": "Python 3 (ipykernel)",
   "language": "python",
   "name": "python3"
  },
  "language_info": {
   "codemirror_mode": {
    "name": "ipython",
    "version": 3
   },
   "file_extension": ".py",
   "mimetype": "text/x-python",
   "name": "python",
   "nbconvert_exporter": "python",
   "pygments_lexer": "ipython3",
   "version": "3.9.7"
  }
 },
 "nbformat": 4,
 "nbformat_minor": 5
}
